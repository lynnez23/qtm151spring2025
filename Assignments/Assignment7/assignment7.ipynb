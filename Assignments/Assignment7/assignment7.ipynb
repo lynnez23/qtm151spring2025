{
 "cells": [
  {
   "cell_type": "markdown",
   "metadata": {},
   "source": [
    "# Assignment 7"
   ]
  },
  {
   "cell_type": "markdown",
   "metadata": {},
   "source": [
    "## Submit as an HTML file"
   ]
  },
  {
   "cell_type": "markdown",
   "metadata": {},
   "source": [
    "### Print your name below"
   ]
  },
  {
   "cell_type": "code",
   "execution_count": 33,
   "metadata": {},
   "outputs": [
    {
     "name": "stdout",
     "output_type": "stream",
     "text": [
      "Lynne Zheng\n"
     ]
    }
   ],
   "source": [
    "print(\"Lynne Zheng\")"
   ]
  },
  {
   "cell_type": "markdown",
   "metadata": {},
   "source": [
    "### Import the \"pandas\" \"numpy\" and \"statsmodels.formula.api\" libraries"
   ]
  },
  {
   "cell_type": "code",
   "execution_count": 3,
   "metadata": {},
   "outputs": [],
   "source": [
    "# Write your answer here:\n",
    "\n",
    "import pandas as pd\n",
    "import numpy as np\n",
    "import statsmodels.formula.api as sm"
   ]
  },
  {
   "cell_type": "markdown",
   "metadata": {},
   "source": [
    "#### In the code chunk below read the CSV file named `results.csv` in the `data` <br> folder and print the first 5 rows of the dataset. Browse the dataset."
   ]
  },
  {
   "cell_type": "code",
   "execution_count": 6,
   "metadata": {},
   "outputs": [
    {
     "data": {
      "application/vnd.microsoft.datawrangler.viewer.v0+json": {
       "columns": [
        {
         "name": "index",
         "rawType": "int64",
         "type": "integer"
        },
        {
         "name": "resultId",
         "rawType": "int64",
         "type": "integer"
        },
        {
         "name": "raceId",
         "rawType": "int64",
         "type": "integer"
        },
        {
         "name": "driverId",
         "rawType": "int64",
         "type": "integer"
        },
        {
         "name": "constructorId",
         "rawType": "int64",
         "type": "integer"
        },
        {
         "name": "number",
         "rawType": "object",
         "type": "string"
        },
        {
         "name": "grid",
         "rawType": "int64",
         "type": "integer"
        },
        {
         "name": "position",
         "rawType": "object",
         "type": "string"
        },
        {
         "name": "positionText",
         "rawType": "object",
         "type": "string"
        },
        {
         "name": "positionOrder",
         "rawType": "int64",
         "type": "integer"
        },
        {
         "name": "points",
         "rawType": "float64",
         "type": "float"
        },
        {
         "name": "laps",
         "rawType": "int64",
         "type": "integer"
        },
        {
         "name": "time",
         "rawType": "object",
         "type": "string"
        },
        {
         "name": "milliseconds",
         "rawType": "object",
         "type": "string"
        },
        {
         "name": "fastestLap",
         "rawType": "object",
         "type": "string"
        },
        {
         "name": "rank",
         "rawType": "object",
         "type": "string"
        },
        {
         "name": "fastestLapTime",
         "rawType": "object",
         "type": "string"
        },
        {
         "name": "fastestLapSpeed",
         "rawType": "object",
         "type": "string"
        },
        {
         "name": "statusId",
         "rawType": "int64",
         "type": "integer"
        }
       ],
       "conversionMethod": "pd.DataFrame",
       "ref": "5bbf321b-4a80-4f38-b430-e4fd61b528a2",
       "rows": [
        [
         "0",
         "1",
         "18",
         "1",
         "1",
         "22",
         "1",
         "1",
         "1",
         "1",
         "10.0",
         "58",
         "1:34:50.616",
         "5690616",
         "39",
         "2",
         "1:27.452",
         "218.300",
         "1"
        ],
        [
         "1",
         "2",
         "18",
         "2",
         "2",
         "3",
         "5",
         "2",
         "2",
         "2",
         "8.0",
         "58",
         "+5.478",
         "5696094",
         "41",
         "3",
         "1:27.739",
         "217.586",
         "1"
        ],
        [
         "2",
         "3",
         "18",
         "3",
         "3",
         "7",
         "7",
         "3",
         "3",
         "3",
         "6.0",
         "58",
         "+8.163",
         "5698779",
         "41",
         "5",
         "1:28.090",
         "216.719",
         "1"
        ],
        [
         "3",
         "4",
         "18",
         "4",
         "4",
         "5",
         "11",
         "4",
         "4",
         "4",
         "5.0",
         "58",
         "+17.181",
         "5707797",
         "58",
         "7",
         "1:28.603",
         "215.464",
         "1"
        ],
        [
         "4",
         "5",
         "18",
         "5",
         "1",
         "23",
         "3",
         "5",
         "5",
         "5",
         "4.0",
         "58",
         "+18.014",
         "5708630",
         "43",
         "1",
         "1:27.418",
         "218.385",
         "1"
        ]
       ],
       "shape": {
        "columns": 18,
        "rows": 5
       }
      },
      "text/html": [
       "<div>\n",
       "<style scoped>\n",
       "    .dataframe tbody tr th:only-of-type {\n",
       "        vertical-align: middle;\n",
       "    }\n",
       "\n",
       "    .dataframe tbody tr th {\n",
       "        vertical-align: top;\n",
       "    }\n",
       "\n",
       "    .dataframe thead th {\n",
       "        text-align: right;\n",
       "    }\n",
       "</style>\n",
       "<table border=\"1\" class=\"dataframe\">\n",
       "  <thead>\n",
       "    <tr style=\"text-align: right;\">\n",
       "      <th></th>\n",
       "      <th>resultId</th>\n",
       "      <th>raceId</th>\n",
       "      <th>driverId</th>\n",
       "      <th>constructorId</th>\n",
       "      <th>number</th>\n",
       "      <th>grid</th>\n",
       "      <th>position</th>\n",
       "      <th>positionText</th>\n",
       "      <th>positionOrder</th>\n",
       "      <th>points</th>\n",
       "      <th>laps</th>\n",
       "      <th>time</th>\n",
       "      <th>milliseconds</th>\n",
       "      <th>fastestLap</th>\n",
       "      <th>rank</th>\n",
       "      <th>fastestLapTime</th>\n",
       "      <th>fastestLapSpeed</th>\n",
       "      <th>statusId</th>\n",
       "    </tr>\n",
       "  </thead>\n",
       "  <tbody>\n",
       "    <tr>\n",
       "      <th>0</th>\n",
       "      <td>1</td>\n",
       "      <td>18</td>\n",
       "      <td>1</td>\n",
       "      <td>1</td>\n",
       "      <td>22</td>\n",
       "      <td>1</td>\n",
       "      <td>1</td>\n",
       "      <td>1</td>\n",
       "      <td>1</td>\n",
       "      <td>10.0</td>\n",
       "      <td>58</td>\n",
       "      <td>1:34:50.616</td>\n",
       "      <td>5690616</td>\n",
       "      <td>39</td>\n",
       "      <td>2</td>\n",
       "      <td>1:27.452</td>\n",
       "      <td>218.300</td>\n",
       "      <td>1</td>\n",
       "    </tr>\n",
       "    <tr>\n",
       "      <th>1</th>\n",
       "      <td>2</td>\n",
       "      <td>18</td>\n",
       "      <td>2</td>\n",
       "      <td>2</td>\n",
       "      <td>3</td>\n",
       "      <td>5</td>\n",
       "      <td>2</td>\n",
       "      <td>2</td>\n",
       "      <td>2</td>\n",
       "      <td>8.0</td>\n",
       "      <td>58</td>\n",
       "      <td>+5.478</td>\n",
       "      <td>5696094</td>\n",
       "      <td>41</td>\n",
       "      <td>3</td>\n",
       "      <td>1:27.739</td>\n",
       "      <td>217.586</td>\n",
       "      <td>1</td>\n",
       "    </tr>\n",
       "    <tr>\n",
       "      <th>2</th>\n",
       "      <td>3</td>\n",
       "      <td>18</td>\n",
       "      <td>3</td>\n",
       "      <td>3</td>\n",
       "      <td>7</td>\n",
       "      <td>7</td>\n",
       "      <td>3</td>\n",
       "      <td>3</td>\n",
       "      <td>3</td>\n",
       "      <td>6.0</td>\n",
       "      <td>58</td>\n",
       "      <td>+8.163</td>\n",
       "      <td>5698779</td>\n",
       "      <td>41</td>\n",
       "      <td>5</td>\n",
       "      <td>1:28.090</td>\n",
       "      <td>216.719</td>\n",
       "      <td>1</td>\n",
       "    </tr>\n",
       "    <tr>\n",
       "      <th>3</th>\n",
       "      <td>4</td>\n",
       "      <td>18</td>\n",
       "      <td>4</td>\n",
       "      <td>4</td>\n",
       "      <td>5</td>\n",
       "      <td>11</td>\n",
       "      <td>4</td>\n",
       "      <td>4</td>\n",
       "      <td>4</td>\n",
       "      <td>5.0</td>\n",
       "      <td>58</td>\n",
       "      <td>+17.181</td>\n",
       "      <td>5707797</td>\n",
       "      <td>58</td>\n",
       "      <td>7</td>\n",
       "      <td>1:28.603</td>\n",
       "      <td>215.464</td>\n",
       "      <td>1</td>\n",
       "    </tr>\n",
       "    <tr>\n",
       "      <th>4</th>\n",
       "      <td>5</td>\n",
       "      <td>18</td>\n",
       "      <td>5</td>\n",
       "      <td>1</td>\n",
       "      <td>23</td>\n",
       "      <td>3</td>\n",
       "      <td>5</td>\n",
       "      <td>5</td>\n",
       "      <td>5</td>\n",
       "      <td>4.0</td>\n",
       "      <td>58</td>\n",
       "      <td>+18.014</td>\n",
       "      <td>5708630</td>\n",
       "      <td>43</td>\n",
       "      <td>1</td>\n",
       "      <td>1:27.418</td>\n",
       "      <td>218.385</td>\n",
       "      <td>1</td>\n",
       "    </tr>\n",
       "  </tbody>\n",
       "</table>\n",
       "</div>"
      ],
      "text/plain": [
       "   resultId  raceId  driverId  ...  fastestLapTime fastestLapSpeed  statusId\n",
       "0         1      18         1  ...        1:27.452         218.300         1\n",
       "1         2      18         2  ...        1:27.739         217.586         1\n",
       "2         3      18         3  ...        1:28.090         216.719         1\n",
       "3         4      18         4  ...        1:28.603         215.464         1\n",
       "4         5      18         5  ...        1:27.418         218.385         1\n",
       "\n",
       "[5 rows x 18 columns]"
      ]
     },
     "execution_count": 6,
     "metadata": {},
     "output_type": "execute_result"
    }
   ],
   "source": [
    "results = pd.read_csv(\"data/results.csv\")\n",
    "results.head(5)"
   ]
  },
  {
   "cell_type": "markdown",
   "metadata": {},
   "source": [
    "### (a)  Check Column Types and Data Cleaning\n",
    "\n",
    "- Use the function .dtypes to get the column types\n",
    "- Identify which columns have data types that might need conversion\n",
    "- The 'milliseconds' column contains string values that should be numeric. Create a new column called 'race_time_ms' that:\n",
    "    - Converts the column to a numeric data type\n",
    "    - Replaces any non-numeric values with NaN"
   ]
  },
  {
   "cell_type": "code",
   "execution_count": 18,
   "metadata": {},
   "outputs": [
    {
     "name": "stdout",
     "output_type": "stream",
     "text": [
      "resultId              int64\n",
      "raceId                int64\n",
      "driverId              int64\n",
      "constructorId         int64\n",
      "number               object\n",
      "grid                  int64\n",
      "position             object\n",
      "positionText         object\n",
      "positionOrder         int64\n",
      "points              float64\n",
      "laps                  int64\n",
      "time                 object\n",
      "milliseconds         object\n",
      "fastestLap           object\n",
      "rank                 object\n",
      "fastestLapTime       object\n",
      "fastestLapSpeed      object\n",
      "statusId              int64\n",
      "race_time_ms         object\n",
      "finish_category    category\n",
      "dtype: object\n",
      "number, position, time, milliseconds, fastestLap, rank, fastestLapTime, and fastestLapSpeed need to be converted\n"
     ]
    }
   ],
   "source": [
    "# Write your answer here\n",
    "print(results.dtypes)\n",
    "print(\"number, position, time, milliseconds, fastestLap, rank, fastestLapTime, and fastestLapSpeed need to be converted\")\n",
    "\n",
    "list_replaced = ['\\\\N']\n",
    "list_new = [np.nan]\n",
    "\n",
    "results[\"race_time_ms\"] = results[\"milliseconds\"].replace(list_replaced, list_new)\n",
    "results[\"race_time_ms\"] = pd.to_numeric(results[\"race_time_ms\"])\n",
    "\n"
   ]
  },
  {
   "cell_type": "markdown",
   "metadata": {},
   "source": [
    "### (b) Create Categorical Variables\n",
    "\n",
    "- Create a new column called 'finish_category' that categorizes the race finish positions as follows:\n",
    "    - Positions 1-3: 'Podium'\n",
    "    - Positions 4-10: 'Points'\n",
    "    - Positions 11-20: 'Midfield'\n",
    "    - Positions >20: 'Backmarker'\n",
    "\n",
    "Hint: Use the pd.cut() function"
   ]
  },
  {
   "cell_type": "code",
   "execution_count": 16,
   "metadata": {},
   "outputs": [],
   "source": [
    "# Write your answer here\n",
    "\n",
    "bins = [0, 3, 10, 20, float('inf')]\n",
    "labels = [\"Podium\", \"Points\", \"Midfield\", \"Backmarker\"]\n",
    "results[\"finish_category\"] = pd.cut(results[\"positionOrder\"],\n",
    "                                    bins = bins,\n",
    "                                    right = True,\n",
    "                                    labels = labels)\n",
    "\n"
   ]
  },
  {
   "cell_type": "markdown",
   "metadata": {},
   "source": [
    "### (c) Calculate Race Duration\n",
    "- For rows where 'milliseconds' is available, create a new column <br>\n",
    "'race_duration_minutes' that converts milliseconds to minutes by dividing <br>\n",
    "by (1000*60).\n",
    "- Display the average race duration by 'constructorId' for the top 5 <br>\n",
    "constructors with the shortest average race times"
   ]
  },
  {
   "cell_type": "code",
   "execution_count": 24,
   "metadata": {},
   "outputs": [
    {
     "name": "stdout",
     "output_type": "stream",
     "text": [
      "constructorId\n",
      "35    76.710777\n",
      "29    77.604125\n",
      "41    87.046767\n",
      "16    89.428828\n",
      "53    89.658852\n",
      "Name: race_duration_minutes, dtype: float64\n"
     ]
    }
   ],
   "source": [
    "# Write your answer here\n",
    "\n",
    "results[\"race_duration_minutes\"] = results[\"race_time_ms\"] / (1000 * 60)\n",
    "average_duration = results.groupby(\"constructorId\")[\"race_duration_minutes\"].mean()\n",
    "top5 = average_duration.sort_values().head(5)\n",
    "print(top5)\n"
   ]
  },
  {
   "cell_type": "markdown",
   "metadata": {},
   "source": [
    "### (d) Driver Performance Analysis\n",
    "\n",
    "- Calculate the following statistics for each driver, grouped by 'driverId':\n",
    "    - Average finishing position\n",
    "    - Total points\n",
    "    - Number of races completed\n",
    "    - Best finishing position\n",
    "\n",
    "- Sort the results by total points in descending order\n",
    "- Display the top 10 drivers based on total points"
   ]
  },
  {
   "cell_type": "code",
   "execution_count": 27,
   "metadata": {},
   "outputs": [
    {
     "data": {
      "application/vnd.microsoft.datawrangler.viewer.v0+json": {
       "columns": [
        {
         "name": "driverId",
         "rawType": "int64",
         "type": "integer"
        },
        {
         "name": "average_finish_position",
         "rawType": "float64",
         "type": "float"
        },
        {
         "name": "total_points",
         "rawType": "float64",
         "type": "float"
        },
        {
         "name": "number_of_races",
         "rawType": "int64",
         "type": "integer"
        },
        {
         "name": "best_finishing_position",
         "rawType": "float64",
         "type": "float"
        }
       ],
       "conversionMethod": "pd.DataFrame",
       "ref": "00ca1e9b-1eca-4993-8f72-4776d8ea4075",
       "rows": [
        [
         "1",
         "3.3838028169014085",
         "4396.5",
         "310",
         "1.0"
        ],
        [
         "20",
         "5.282442748091603",
         "3098.0",
         "300",
         "1.0"
        ],
        [
         "4",
         "6.257731958762887",
         "2061.0",
         "358",
         "1.0"
        ],
        [
         "830",
         "4.022388059701493",
         "1983.5",
         "163",
         "1.0"
        ],
        [
         "8",
         "6.23859649122807",
         "1873.0",
         "352",
         "1.0"
        ],
        [
         "822",
         "6.29608938547486",
         "1778.0",
         "201",
         "1.0"
        ],
        [
         "3",
         "6.3559322033898304",
         "1594.5",
         "206",
         "1.0"
        ],
        [
         "30",
         "3.7012448132780085",
         "1566.0",
         "308",
         "1.0"
        ],
        [
         "817",
         "8.261538461538462",
         "1307.0",
         "232",
         "1.0"
        ],
        [
         "18",
         "7.409090909090909",
         "1235.0",
         "309",
         "1.0"
        ]
       ],
       "shape": {
        "columns": 4,
        "rows": 10
       }
      },
      "text/html": [
       "<div>\n",
       "<style scoped>\n",
       "    .dataframe tbody tr th:only-of-type {\n",
       "        vertical-align: middle;\n",
       "    }\n",
       "\n",
       "    .dataframe tbody tr th {\n",
       "        vertical-align: top;\n",
       "    }\n",
       "\n",
       "    .dataframe thead th {\n",
       "        text-align: right;\n",
       "    }\n",
       "</style>\n",
       "<table border=\"1\" class=\"dataframe\">\n",
       "  <thead>\n",
       "    <tr style=\"text-align: right;\">\n",
       "      <th></th>\n",
       "      <th>average_finish_position</th>\n",
       "      <th>total_points</th>\n",
       "      <th>number_of_races</th>\n",
       "      <th>best_finishing_position</th>\n",
       "    </tr>\n",
       "    <tr>\n",
       "      <th>driverId</th>\n",
       "      <th></th>\n",
       "      <th></th>\n",
       "      <th></th>\n",
       "      <th></th>\n",
       "    </tr>\n",
       "  </thead>\n",
       "  <tbody>\n",
       "    <tr>\n",
       "      <th>1</th>\n",
       "      <td>3.383803</td>\n",
       "      <td>4396.5</td>\n",
       "      <td>310</td>\n",
       "      <td>1.0</td>\n",
       "    </tr>\n",
       "    <tr>\n",
       "      <th>20</th>\n",
       "      <td>5.282443</td>\n",
       "      <td>3098.0</td>\n",
       "      <td>300</td>\n",
       "      <td>1.0</td>\n",
       "    </tr>\n",
       "    <tr>\n",
       "      <th>4</th>\n",
       "      <td>6.257732</td>\n",
       "      <td>2061.0</td>\n",
       "      <td>358</td>\n",
       "      <td>1.0</td>\n",
       "    </tr>\n",
       "    <tr>\n",
       "      <th>830</th>\n",
       "      <td>4.022388</td>\n",
       "      <td>1983.5</td>\n",
       "      <td>163</td>\n",
       "      <td>1.0</td>\n",
       "    </tr>\n",
       "    <tr>\n",
       "      <th>8</th>\n",
       "      <td>6.238596</td>\n",
       "      <td>1873.0</td>\n",
       "      <td>352</td>\n",
       "      <td>1.0</td>\n",
       "    </tr>\n",
       "    <tr>\n",
       "      <th>822</th>\n",
       "      <td>6.296089</td>\n",
       "      <td>1778.0</td>\n",
       "      <td>201</td>\n",
       "      <td>1.0</td>\n",
       "    </tr>\n",
       "    <tr>\n",
       "      <th>3</th>\n",
       "      <td>6.355932</td>\n",
       "      <td>1594.5</td>\n",
       "      <td>206</td>\n",
       "      <td>1.0</td>\n",
       "    </tr>\n",
       "    <tr>\n",
       "      <th>30</th>\n",
       "      <td>3.701245</td>\n",
       "      <td>1566.0</td>\n",
       "      <td>308</td>\n",
       "      <td>1.0</td>\n",
       "    </tr>\n",
       "    <tr>\n",
       "      <th>817</th>\n",
       "      <td>8.261538</td>\n",
       "      <td>1307.0</td>\n",
       "      <td>232</td>\n",
       "      <td>1.0</td>\n",
       "    </tr>\n",
       "    <tr>\n",
       "      <th>18</th>\n",
       "      <td>7.409091</td>\n",
       "      <td>1235.0</td>\n",
       "      <td>309</td>\n",
       "      <td>1.0</td>\n",
       "    </tr>\n",
       "  </tbody>\n",
       "</table>\n",
       "</div>"
      ],
      "text/plain": [
       "          average_finish_position  ...  best_finishing_position\n",
       "driverId                           ...                         \n",
       "1                        3.383803  ...                      1.0\n",
       "20                       5.282443  ...                      1.0\n",
       "4                        6.257732  ...                      1.0\n",
       "830                      4.022388  ...                      1.0\n",
       "8                        6.238596  ...                      1.0\n",
       "822                      6.296089  ...                      1.0\n",
       "3                        6.355932  ...                      1.0\n",
       "30                       3.701245  ...                      1.0\n",
       "817                      8.261538  ...                      1.0\n",
       "18                       7.409091  ...                      1.0\n",
       "\n",
       "[10 rows x 4 columns]"
      ]
     },
     "execution_count": 27,
     "metadata": {},
     "output_type": "execute_result"
    }
   ],
   "source": [
    "# Write your answer here\n",
    "\n",
    "results[\"position\"] = results[\"position\"].replace(list_replaced, list_new)\n",
    "results[\"position\"] = pd.to_numeric(results[\"position\"])\n",
    "\n",
    "drivers_info = results.groupby(\"driverId\").agg(average_finish_position = (\"position\", \"mean\"),\n",
    "                                               total_points = (\"points\", \"sum\"),\n",
    "                                               number_of_races = (\"raceId\", \"count\"),\n",
    "                                               best_finishing_position = (\"position\", \"min\"))\n",
    "drivers_info = drivers_info.sort_values(by = \"total_points\", ascending = False)\n",
    "drivers_info.head(10)"
   ]
  },
  {
   "cell_type": "markdown",
   "metadata": {},
   "source": [
    "### (e) Linear Regression\n",
    "Create a linear regression model that predicts 'points' based on 'grid' (starting position) and 'laps' completed <br>\n",
    "Use the following steps:\n",
    "\n",
    "- Clean the data to remove any non-numeric values and missing values\n",
    "- Create the regression formula using smf.ols \n",
    "- Display the summary of the regression model using model.summary()\n",
    "\n",
    "What is the predicted points for a driver starting in position 3 and completing 55 laps?\n",
    "\n",
    "Hint: Use ```.dropna()''' to remove missing values from the points, grid, and laps <br>\n",
    "variables."
   ]
  },
  {
   "cell_type": "code",
   "execution_count": 32,
   "metadata": {},
   "outputs": [
    {
     "name": "stdout",
     "output_type": "stream",
     "text": [
      "                            OLS Regression Results                            \n",
      "==============================================================================\n",
      "Dep. Variable:           points_clean   R-squared:                       0.232\n",
      "Model:                            OLS   Adj. R-squared:                  0.232\n",
      "Method:                 Least Squares   F-statistic:                     1070.\n",
      "Date:                Mon, 24 Mar 2025   Prob (F-statistic):               0.00\n",
      "Time:                        21:03:30   Log-Likelihood:                -21701.\n",
      "No. Observations:                7083   AIC:                         4.341e+04\n",
      "Df Residuals:                    7080   BIC:                         4.343e+04\n",
      "Df Model:                           2                                         \n",
      "Covariance Type:            nonrobust                                         \n",
      "==============================================================================\n",
      "                 coef    std err          t      P>|t|      [0.025      0.975]\n",
      "------------------------------------------------------------------------------\n",
      "Intercept     10.1445      0.192     52.702      0.000       9.767      10.522\n",
      "grid_clean    -0.5274      0.011    -46.174      0.000      -0.550      -0.505\n",
      "laps_clean    -0.0004      0.003     -0.165      0.869      -0.006       0.005\n",
      "==============================================================================\n",
      "Omnibus:                     1855.137   Durbin-Watson:                   0.913\n",
      "Prob(Omnibus):                  0.000   Jarque-Bera (JB):             4538.335\n",
      "Skew:                           1.446   Prob(JB):                         0.00\n",
      "Kurtosis:                       5.649   Cond. No.                         210.\n",
      "==============================================================================\n",
      "\n",
      "Notes:\n",
      "[1] Standard Errors assume that the covariance matrix of the errors is correctly specified.\n",
      "0    8.538072\n",
      "dtype: float64\n"
     ]
    }
   ],
   "source": [
    "# Write your answer here\n",
    "results[\"points_clean\"] = results[\"points\"].replace(list_replaced, list_new)\n",
    "results[\"grid_clean\"] = results[\"grid\"].replace(list_replaced, list_new)\n",
    "results[\"laps_clean\"] = results[\"laps\"].replace(list_replaced, list_new)\n",
    "results_clean = results.dropna()\n",
    "\n",
    "model = sm.ols(\"points_clean ~ grid_clean + laps_clean\", data = results_clean).fit()\n",
    "print(model.summary())\n",
    "predicted = pd.DataFrame({\"grid_clean\" : [3], \"laps_clean\" : [55]})\n",
    "predicted_points = model.predict(predicted)\n",
    "print(predicted_points)\n"
   ]
  }
 ],
 "metadata": {
  "kernelspec": {
   "display_name": "base",
   "language": "python",
   "name": "python3"
  },
  "language_info": {
   "codemirror_mode": {
    "name": "ipython",
    "version": 3
   },
   "file_extension": ".py",
   "mimetype": "text/x-python",
   "name": "python",
   "nbconvert_exporter": "python",
   "pygments_lexer": "ipython3",
   "version": "3.12.7"
  }
 },
 "nbformat": 4,
 "nbformat_minor": 2
}
