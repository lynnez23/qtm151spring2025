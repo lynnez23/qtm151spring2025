{
 "cells": [
  {
   "attachments": {},
   "cell_type": "markdown",
   "metadata": {},
   "source": [
    "# <span style=\"color:darkblue\"> Lecture 15 - Review Commands </span>\n",
    "\n",
    "<font size = \"5\">\n",
    "\n",
    "In this lecture you will get a chance to practice <br>\n",
    "the main dataset operations\n"
   ]
  },
  {
   "attachments": {},
   "cell_type": "markdown",
   "metadata": {},
   "source": [
    "# <span style=\"color:darkblue\"> I. Import Libraries and Data </span>\n"
   ]
  },
  {
   "cell_type": "code",
   "execution_count": 1,
   "metadata": {},
   "outputs": [],
   "source": [
    "import numpy as np\n",
    "import pandas as pd\n",
    "import matplotlib.pyplot as plt"
   ]
  },
  {
   "cell_type": "code",
   "execution_count": 2,
   "metadata": {},
   "outputs": [],
   "source": [
    "results  = pd.read_csv(\"data_raw/results.csv\")\n",
    "races    = pd.read_csv(\"data_raw/races.csv\")\n",
    "results[\"points col\"] = results[\"points\"]"
   ]
  },
  {
   "cell_type": "markdown",
   "metadata": {},
   "source": [
    "# <span style=\"color:darkblue\"> II. Review of Diagnostic Commands </span>\n"
   ]
  },
  {
   "cell_type": "markdown",
   "metadata": {},
   "source": [
    "<font size = \"5\">\n",
    "\n",
    "More details ...\n",
    "\n",
    "https://www.w3schools.com/python/pandas/pandas_cleaning.asp"
   ]
  },
  {
   "cell_type": "code",
   "execution_count": 3,
   "metadata": {},
   "outputs": [],
   "source": [
    "# (a) Count number of observations\n",
    "n_total   = len(results)\n",
    "\n",
    "# (b) Count non-missing observations\n",
    "n_nonmiss = results[\"points\"].count()\n",
    "\n",
    "# (b) Get column names\n",
    "list_names = results.columns.names\n",
    "\n",
    "# (c) Unique values\n",
    "list_ids   = pd.unique(results[\"constructorId\"])\n"
   ]
  },
  {
   "attachments": {},
   "cell_type": "markdown",
   "metadata": {},
   "source": [
    "# <span style=\"color:darkblue\"> II. Examples of Dataset Operations </span>\n",
    "\n",
    "<font size = \"5\">\n",
    "\n",
    "Full list of commands here:\n",
    "\n",
    "https://www.w3schools.com/python/pandas/pandas_ref_dataframe.asp"
   ]
  },
  {
   "attachments": {},
   "cell_type": "markdown",
   "metadata": {},
   "source": [
    "<font size = \"5\">\n",
    "\n",
    "```[] ```: Extracting columns"
   ]
  },
  {
   "cell_type": "code",
   "execution_count": 4,
   "metadata": {},
   "outputs": [],
   "source": [
    "subset_cols = results[[\"constructorId\",\"points\",\"laps\"]]"
   ]
  },
  {
   "cell_type": "markdown",
   "metadata": {},
   "source": [
    "<font size = \"5\">\n",
    "\n",
    "```.query() ```: Filtering a subset of rows"
   ]
  },
  {
   "cell_type": "code",
   "execution_count": 5,
   "metadata": {},
   "outputs": [],
   "source": [
    "lower_value          = 20\n",
    "subset_row_text      = races.query('name == \"Australian Grand Prix\"')\n",
    "subset_row_ineq      = results.query('(points >= 20) & (points <= 30)')\n",
    "subset_row_global    = results.query('(points >= @lower_value)')\n",
    "subset_row_colspaces = results.query('(`points col` >= @lower_value)')"
   ]
  },
  {
   "attachments": {},
   "cell_type": "markdown",
   "metadata": {},
   "source": [
    "<font size = \"5\">\n",
    "\n",
    "```.recode() ```: Replacing values"
   ]
  },
  {
   "cell_type": "code",
   "execution_count": 6,
   "metadata": {},
   "outputs": [],
   "source": [
    "results   = results.replace(to_replace = [\"UK\",\"USA\"],\n",
    "                            value = [\"United Kingdom\",\"United States\"])"
   ]
  },
  {
   "attachments": {},
   "cell_type": "markdown",
   "metadata": {},
   "source": [
    "<font size = \"5\">\n",
    "\n",
    "```.groupby().agg() ```: Aggregate statistics by subgroup"
   ]
  },
  {
   "cell_type": "code",
   "execution_count": null,
   "metadata": {},
   "outputs": [
    {
     "data": {
      "application/vnd.microsoft.datawrangler.viewer.v0+json": {
       "columns": [
        {
         "name": "driverId",
         "rawType": "int64",
         "type": "integer"
        },
        {
         "name": "median_points",
         "rawType": "float64",
         "type": "float"
        }
       ],
       "conversionMethod": "pd.DataFrame",
       "ref": "f0a5bcd9-0c35-4569-b999-9f4fc7b0e8fa",
       "rows": [
        [
         "1",
         "15.0"
        ],
        [
         "2",
         "0.0"
        ],
        [
         "3",
         "4.0"
        ],
        [
         "4",
         "4.0"
        ],
        [
         "5",
         "0.0"
        ],
        [
         "6",
         "0.0"
        ],
        [
         "7",
         "0.0"
        ],
        [
         "8",
         "4.0"
        ],
        [
         "9",
         "0.0"
        ],
        [
         "10",
         "0.0"
        ],
        [
         "11",
         "0.0"
        ],
        [
         "12",
         "0.0"
        ],
        [
         "13",
         "2.0"
        ],
        [
         "14",
         "0.0"
        ],
        [
         "15",
         "0.0"
        ],
        [
         "16",
         "0.0"
        ],
        [
         "17",
         "1.0"
        ],
        [
         "18",
         "1.0"
        ],
        [
         "19",
         "0.0"
        ],
        [
         "20",
         "10.0"
        ],
        [
         "21",
         "0.0"
        ],
        [
         "22",
         "0.0"
        ],
        [
         "23",
         "0.5"
        ],
        [
         "24",
         "0.0"
        ],
        [
         "25",
         "0.0"
        ],
        [
         "26",
         "0.0"
        ],
        [
         "27",
         "0.0"
        ],
        [
         "28",
         "0.0"
        ],
        [
         "29",
         "0.0"
        ],
        [
         "30",
         "6.0"
        ],
        [
         "31",
         "3.0"
        ],
        [
         "32",
         "0.0"
        ],
        [
         "33",
         "0.0"
        ],
        [
         "34",
         "0.0"
        ],
        [
         "35",
         "0.0"
        ],
        [
         "36",
         "0.0"
        ],
        [
         "37",
         "0.0"
        ],
        [
         "38",
         "0.0"
        ],
        [
         "39",
         "0.0"
        ],
        [
         "40",
         "0.0"
        ],
        [
         "41",
         "0.0"
        ],
        [
         "42",
         "0.0"
        ],
        [
         "43",
         "0.0"
        ],
        [
         "44",
         "0.0"
        ],
        [
         "45",
         "0.0"
        ],
        [
         "46",
         "0.0"
        ],
        [
         "47",
         "0.0"
        ],
        [
         "48",
         "0.0"
        ],
        [
         "49",
         "0.0"
        ],
        [
         "50",
         "0.0"
        ]
       ],
       "shape": {
        "columns": 1,
        "rows": 855
       }
      },
      "text/html": [
       "<div>\n",
       "<style scoped>\n",
       "    .dataframe tbody tr th:only-of-type {\n",
       "        vertical-align: middle;\n",
       "    }\n",
       "\n",
       "    .dataframe tbody tr th {\n",
       "        vertical-align: top;\n",
       "    }\n",
       "\n",
       "    .dataframe thead th {\n",
       "        text-align: right;\n",
       "    }\n",
       "</style>\n",
       "<table border=\"1\" class=\"dataframe\">\n",
       "  <thead>\n",
       "    <tr style=\"text-align: right;\">\n",
       "      <th></th>\n",
       "      <th>median_points</th>\n",
       "    </tr>\n",
       "    <tr>\n",
       "      <th>driverId</th>\n",
       "      <th></th>\n",
       "    </tr>\n",
       "  </thead>\n",
       "  <tbody>\n",
       "    <tr>\n",
       "      <th>1</th>\n",
       "      <td>15.0</td>\n",
       "    </tr>\n",
       "    <tr>\n",
       "      <th>2</th>\n",
       "      <td>0.0</td>\n",
       "    </tr>\n",
       "    <tr>\n",
       "      <th>3</th>\n",
       "      <td>4.0</td>\n",
       "    </tr>\n",
       "    <tr>\n",
       "      <th>4</th>\n",
       "      <td>4.0</td>\n",
       "    </tr>\n",
       "    <tr>\n",
       "      <th>5</th>\n",
       "      <td>0.0</td>\n",
       "    </tr>\n",
       "    <tr>\n",
       "      <th>...</th>\n",
       "      <td>...</td>\n",
       "    </tr>\n",
       "    <tr>\n",
       "      <th>852</th>\n",
       "      <td>0.0</td>\n",
       "    </tr>\n",
       "    <tr>\n",
       "      <th>853</th>\n",
       "      <td>0.0</td>\n",
       "    </tr>\n",
       "    <tr>\n",
       "      <th>854</th>\n",
       "      <td>0.0</td>\n",
       "    </tr>\n",
       "    <tr>\n",
       "      <th>855</th>\n",
       "      <td>0.0</td>\n",
       "    </tr>\n",
       "    <tr>\n",
       "      <th>856</th>\n",
       "      <td>2.0</td>\n",
       "    </tr>\n",
       "  </tbody>\n",
       "</table>\n",
       "<p>855 rows × 1 columns</p>\n",
       "</div>"
      ],
      "text/plain": [
       "          median_points\n",
       "driverId               \n",
       "1                  15.0\n",
       "2                   0.0\n",
       "3                   4.0\n",
       "4                   4.0\n",
       "5                   0.0\n",
       "...                 ...\n",
       "852                 0.0\n",
       "853                 0.0\n",
       "854                 0.0\n",
       "855                 0.0\n",
       "856                 2.0\n",
       "\n",
       "[855 rows x 1 columns]"
      ]
     },
     "execution_count": 9,
     "metadata": {},
     "output_type": "execute_result"
    }
   ],
   "source": [
    "results_agg = results.groupby(\"driverId\").agg( median_points = (\"points\",\"median\"))"
   ]
  },
  {
   "attachments": {},
   "cell_type": "markdown",
   "metadata": {},
   "source": [
    "<font size = \"5\">\n",
    "\n",
    "```.rename() ```: Change name of columns"
   ]
  },
  {
   "cell_type": "code",
   "execution_count": 8,
   "metadata": {},
   "outputs": [],
   "source": [
    "races_rename = races.rename(columns = {\"name\": \"new_name\"})"
   ]
  }
 ],
 "metadata": {
  "kernelspec": {
   "display_name": "base",
   "language": "python",
   "name": "python3"
  },
  "language_info": {
   "codemirror_mode": {
    "name": "ipython",
    "version": 3
   },
   "file_extension": ".py",
   "mimetype": "text/x-python",
   "name": "python",
   "nbconvert_exporter": "python",
   "pygments_lexer": "ipython3",
   "version": "3.12.7"
  },
  "orig_nbformat": 4,
  "vscode": {
   "interpreter": {
    "hash": "45fc1f684f6f416f40889115beff3ddf69879b64cf4bfee48cb72a61e9d15d1a"
   }
  }
 },
 "nbformat": 4,
 "nbformat_minor": 2
}
